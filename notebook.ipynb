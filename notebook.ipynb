{
 "cells": [
  {
   "cell_type": "code",
   "execution_count": 3,
   "metadata": {},
   "outputs": [],
   "source": [
    "import pandas as pd"
   ]
  },
  {
   "cell_type": "code",
   "execution_count": 4,
   "metadata": {},
   "outputs": [],
   "source": [
    "referendum = pd.read_csv(\"data//referendum.csv\", sep=\";\", header=0)\n",
    "departments = pd.read_csv(\"data//departments.csv\", sep=\",\", header=0)\n",
    "regions = pd.read_csv(\"data//regions.csv\", sep=\",\", header=0)"
   ]
  },
  {
   "cell_type": "code",
   "execution_count": 5,
   "metadata": {},
   "outputs": [
    {
     "name": "stdout",
     "output_type": "stream",
     "text": [
      "<class 'pandas.core.frame.DataFrame'>\n",
      "RangeIndex: 109 entries, 0 to 108\n",
      "Data columns (total 5 columns):\n",
      " #   Column       Non-Null Count  Dtype \n",
      "---  ------       --------------  ----- \n",
      " 0   id           109 non-null    int64 \n",
      " 1   region_code  109 non-null    object\n",
      " 2   code         109 non-null    object\n",
      " 3   name         109 non-null    object\n",
      " 4   slug         109 non-null    object\n",
      "dtypes: int64(1), object(4)\n",
      "memory usage: 4.4+ KB\n"
     ]
    }
   ],
   "source": [
    "departments.info()"
   ]
  },
  {
   "cell_type": "code",
   "execution_count": 6,
   "metadata": {},
   "outputs": [
    {
     "data": {
      "text/plain": [
       "0"
      ]
     },
     "execution_count": 6,
     "metadata": {},
     "output_type": "execute_result"
    }
   ],
   "source": [
    "departments.duplicated([\"code\"]).sum()"
   ]
  },
  {
   "cell_type": "code",
   "execution_count": 7,
   "metadata": {},
   "outputs": [
    {
     "name": "stdout",
     "output_type": "stream",
     "text": [
      "   id code        name        slug\n",
      "0   1   01  Guadeloupe  guadeloupe\n",
      "1   2   02  Martinique  martinique\n",
      "2   3   03      Guyane      guyane\n",
      "3   4   04  La Réunion  la reunion\n",
      "4   5   06     Mayotte     mayotte\n",
      "   id region_code code                     name                     slug\n",
      "0   1          84   01                      Ain                      ain\n",
      "1   2          32   02                    Aisne                    aisne\n",
      "2   3          84   03                   Allier                   allier\n",
      "3   4          93   04  Alpes-de-Haute-Provence  alpes de haute provence\n",
      "4   5          93   05             Hautes-Alpes             hautes alpes\n"
     ]
    },
    {
     "data": {
      "text/html": [
       "<div>\n",
       "<style scoped>\n",
       "    .dataframe tbody tr th:only-of-type {\n",
       "        vertical-align: middle;\n",
       "    }\n",
       "\n",
       "    .dataframe tbody tr th {\n",
       "        vertical-align: top;\n",
       "    }\n",
       "\n",
       "    .dataframe thead th {\n",
       "        text-align: right;\n",
       "    }\n",
       "</style>\n",
       "<table border=\"1\" class=\"dataframe\">\n",
       "  <thead>\n",
       "    <tr style=\"text-align: right;\">\n",
       "      <th></th>\n",
       "      <th>code_dep</th>\n",
       "      <th>name_dep</th>\n",
       "      <th>name_reg</th>\n",
       "      <th>code_reg</th>\n",
       "    </tr>\n",
       "  </thead>\n",
       "  <tbody>\n",
       "    <tr>\n",
       "      <th>0</th>\n",
       "      <td>01</td>\n",
       "      <td>Ain</td>\n",
       "      <td>Auvergne-Rhône-Alpes</td>\n",
       "      <td>84</td>\n",
       "    </tr>\n",
       "    <tr>\n",
       "      <th>1</th>\n",
       "      <td>02</td>\n",
       "      <td>Aisne</td>\n",
       "      <td>Hauts-de-France</td>\n",
       "      <td>32</td>\n",
       "    </tr>\n",
       "    <tr>\n",
       "      <th>2</th>\n",
       "      <td>03</td>\n",
       "      <td>Allier</td>\n",
       "      <td>Auvergne-Rhône-Alpes</td>\n",
       "      <td>84</td>\n",
       "    </tr>\n",
       "    <tr>\n",
       "      <th>3</th>\n",
       "      <td>04</td>\n",
       "      <td>Alpes-de-Haute-Provence</td>\n",
       "      <td>Provence-Alpes-Côte d'Azur</td>\n",
       "      <td>93</td>\n",
       "    </tr>\n",
       "    <tr>\n",
       "      <th>4</th>\n",
       "      <td>05</td>\n",
       "      <td>Hautes-Alpes</td>\n",
       "      <td>Provence-Alpes-Côte d'Azur</td>\n",
       "      <td>93</td>\n",
       "    </tr>\n",
       "  </tbody>\n",
       "</table>\n",
       "</div>"
      ],
      "text/plain": [
       "  code_dep                 name_dep                    name_reg code_reg\n",
       "0       01                      Ain        Auvergne-Rhône-Alpes       84\n",
       "1       02                    Aisne             Hauts-de-France       32\n",
       "2       03                   Allier        Auvergne-Rhône-Alpes       84\n",
       "3       04  Alpes-de-Haute-Provence  Provence-Alpes-Côte d'Azur       93\n",
       "4       05             Hautes-Alpes  Provence-Alpes-Côte d'Azur       93"
      ]
     },
     "execution_count": 7,
     "metadata": {},
     "output_type": "execute_result"
    }
   ],
   "source": [
    " \"\"\"Merge regions and departments in one DataFrame.\n",
    "\n",
    "    The columns in the final DataFrame should be:\n",
    "    ['code_reg', 'name_reg', 'code_dep', 'name_dep']\n",
    "\"\"\"\n",
    "print(regions.head())\n",
    "print(departments.head())\n",
    "regions_and_departments = departments.merge(regions.rename(columns={\"name\":\"name_reg\", \"code\" : \"code_reg\"})[[\"name_reg\", \"code_reg\"]],\n",
    "                   how='left', \n",
    "                   left_on = 'region_code',\n",
    "                   right_on='code_reg').rename(columns={\"name\":\"name_dep\", \n",
    "                                                        \"code\":\"code_dep\"}).drop(columns=[\"slug\", \"id\", \"region_code\"])\n",
    "regions_and_departments.head()"
   ]
  },
  {
   "cell_type": "code",
   "execution_count": 8,
   "metadata": {},
   "outputs": [
    {
     "data": {
      "text/plain": [
       "0"
      ]
     },
     "execution_count": 8,
     "metadata": {},
     "output_type": "execute_result"
    }
   ],
   "source": [
    "regions_and_departments.duplicated([\"name_dep\"]).sum()"
   ]
  },
  {
   "cell_type": "code",
   "execution_count": 9,
   "metadata": {},
   "outputs": [
    {
     "data": {
      "text/plain": [
       "array(['1', '2', '3', '4', '5', '6', '7', '8', '9', '10', '11', '12',\n",
       "       '13', '14', '15', '16', '17', '18', '19', '2A', '2B', '21', '22',\n",
       "       '23', '24', '25', '26', '27', '28', '29', '30', '31', '32', '33',\n",
       "       '34', '35', '36', '37', '38', '39', '40', '41', '42', '43', '44',\n",
       "       '45', '46', '47', '48', '49', '50', '51', '52', '53', '54', '55',\n",
       "       '56', '57', '58', '59', '60', '61', '62', '63', '64', '65', '66',\n",
       "       '67', '68', '69', '70', '71', '72', '73', '74', '75', '76', '77',\n",
       "       '78', '79', '80', '81', '82', '83', '84', '85', '86', '87', '88',\n",
       "       '89', '90', '91', '92', '93', '94', '95', 'ZA', 'ZB', 'ZC', 'ZD',\n",
       "       'ZM', 'ZN', 'ZP', 'ZS', 'ZW', 'ZX', 'ZZ'], dtype=object)"
      ]
     },
     "execution_count": 9,
     "metadata": {},
     "output_type": "execute_result"
    }
   ],
   "source": [
    "referendum[\"Department code\"].unique()"
   ]
  },
  {
   "cell_type": "code",
   "execution_count": 10,
   "metadata": {},
   "outputs": [
    {
     "data": {
      "text/plain": [
       "array(['01', '02', '03', '04', '05', '06', '07', '08', '09', '10', '11',\n",
       "       '12', '13', '14', '15', '16', '17', '18', '19', '21', '22', '23',\n",
       "       '24', '25', '26', '27', '28', '29', '2A', '2B', '30', '31', '32',\n",
       "       '33', '34', '35', '36', '37', '38', '39', '40', '41', '42', '43',\n",
       "       '44', '45', '46', '47', '48', '49', '50', '51', '52', '53', '54',\n",
       "       '55', '56', '57', '58', '59', '60', '61', '62', '63', '64', '65',\n",
       "       '66', '67', '68', '69', '70', '71', '72', '73', '74', '75', '76',\n",
       "       '77', '78', '79', '80', '81', '82', '83', '84', '85', '86', '87',\n",
       "       '88', '89', '90', '91', '92', '93', '94', '95', '971', '972',\n",
       "       '973', '974', '976', '975', '977', '978', '984', '986', '987',\n",
       "       '988', '989'], dtype=object)"
      ]
     },
     "execution_count": 10,
     "metadata": {},
     "output_type": "execute_result"
    }
   ],
   "source": [
    "regions_and_departments[\"code_dep\"].unique()"
   ]
  },
  {
   "cell_type": "code",
   "execution_count": 11,
   "metadata": {},
   "outputs": [],
   "source": [
    "regions_and_departments['code_dep'] = [ele.lstrip(\"0\") for ele in regions_and_departments['code_dep']]"
   ]
  },
  {
   "cell_type": "code",
   "execution_count": 12,
   "metadata": {},
   "outputs": [
    {
     "data": {
      "text/html": [
       "<div>\n",
       "<style scoped>\n",
       "    .dataframe tbody tr th:only-of-type {\n",
       "        vertical-align: middle;\n",
       "    }\n",
       "\n",
       "    .dataframe tbody tr th {\n",
       "        vertical-align: top;\n",
       "    }\n",
       "\n",
       "    .dataframe thead th {\n",
       "        text-align: right;\n",
       "    }\n",
       "</style>\n",
       "<table border=\"1\" class=\"dataframe\">\n",
       "  <thead>\n",
       "    <tr style=\"text-align: right;\">\n",
       "      <th></th>\n",
       "      <th>Department code</th>\n",
       "      <th>Department name</th>\n",
       "      <th>Town code</th>\n",
       "      <th>Town name</th>\n",
       "      <th>Registered</th>\n",
       "      <th>Abstentions</th>\n",
       "      <th>Null</th>\n",
       "      <th>Choice A</th>\n",
       "      <th>Choice B</th>\n",
       "    </tr>\n",
       "  </thead>\n",
       "  <tbody>\n",
       "    <tr>\n",
       "      <th>0</th>\n",
       "      <td>1</td>\n",
       "      <td>AIN</td>\n",
       "      <td>1</td>\n",
       "      <td>L'Abergement-Clémenciat</td>\n",
       "      <td>592</td>\n",
       "      <td>84</td>\n",
       "      <td>9</td>\n",
       "      <td>154</td>\n",
       "      <td>345</td>\n",
       "    </tr>\n",
       "    <tr>\n",
       "      <th>1</th>\n",
       "      <td>1</td>\n",
       "      <td>AIN</td>\n",
       "      <td>2</td>\n",
       "      <td>L'Abergement-de-Varey</td>\n",
       "      <td>215</td>\n",
       "      <td>36</td>\n",
       "      <td>5</td>\n",
       "      <td>66</td>\n",
       "      <td>108</td>\n",
       "    </tr>\n",
       "    <tr>\n",
       "      <th>2</th>\n",
       "      <td>1</td>\n",
       "      <td>AIN</td>\n",
       "      <td>4</td>\n",
       "      <td>Ambérieu-en-Bugey</td>\n",
       "      <td>8205</td>\n",
       "      <td>1698</td>\n",
       "      <td>126</td>\n",
       "      <td>2717</td>\n",
       "      <td>3664</td>\n",
       "    </tr>\n",
       "    <tr>\n",
       "      <th>3</th>\n",
       "      <td>1</td>\n",
       "      <td>AIN</td>\n",
       "      <td>5</td>\n",
       "      <td>Ambérieux-en-Dombes</td>\n",
       "      <td>1152</td>\n",
       "      <td>170</td>\n",
       "      <td>18</td>\n",
       "      <td>280</td>\n",
       "      <td>684</td>\n",
       "    </tr>\n",
       "    <tr>\n",
       "      <th>4</th>\n",
       "      <td>1</td>\n",
       "      <td>AIN</td>\n",
       "      <td>6</td>\n",
       "      <td>Ambléon</td>\n",
       "      <td>105</td>\n",
       "      <td>17</td>\n",
       "      <td>1</td>\n",
       "      <td>35</td>\n",
       "      <td>52</td>\n",
       "    </tr>\n",
       "  </tbody>\n",
       "</table>\n",
       "</div>"
      ],
      "text/plain": [
       "  Department code Department name  Town code                Town name  \\\n",
       "0               1             AIN          1  L'Abergement-Clémenciat   \n",
       "1               1             AIN          2    L'Abergement-de-Varey   \n",
       "2               1             AIN          4        Ambérieu-en-Bugey   \n",
       "3               1             AIN          5      Ambérieux-en-Dombes   \n",
       "4               1             AIN          6                  Ambléon   \n",
       "\n",
       "   Registered  Abstentions  Null  Choice A  Choice B  \n",
       "0         592           84     9       154       345  \n",
       "1         215           36     5        66       108  \n",
       "2        8205         1698   126      2717      3664  \n",
       "3        1152          170    18       280       684  \n",
       "4         105           17     1        35        52  "
      ]
     },
     "execution_count": 12,
     "metadata": {},
     "output_type": "execute_result"
    }
   ],
   "source": [
    "referendum.head()"
   ]
  },
  {
   "cell_type": "code",
   "execution_count": 13,
   "metadata": {},
   "outputs": [],
   "source": [
    "referendum_and_areas = referendum.merge(regions_and_departments, \n",
    "                 how='left', \n",
    "                 left_on='Department code',\n",
    "                 right_on='code_dep')"
   ]
  },
  {
   "cell_type": "code",
   "execution_count": 14,
   "metadata": {},
   "outputs": [],
   "source": [
    "dom_tom_list = ['ZA', 'ZB', 'ZC', 'ZD',\n",
    "       'ZM', 'ZN', 'ZP', 'ZS', 'ZW', 'ZX', 'ZZ']\n",
    "referendum_and_areas = referendum_and_areas.loc[(referendum_and_areas['Department code'].isin(dom_tom_list)) == 0]\n"
   ]
  },
  {
   "cell_type": "code",
   "execution_count": 41,
   "metadata": {},
   "outputs": [
    {
     "data": {
      "text/html": [
       "<div>\n",
       "<style scoped>\n",
       "    .dataframe tbody tr th:only-of-type {\n",
       "        vertical-align: middle;\n",
       "    }\n",
       "\n",
       "    .dataframe tbody tr th {\n",
       "        vertical-align: top;\n",
       "    }\n",
       "\n",
       "    .dataframe thead th {\n",
       "        text-align: right;\n",
       "    }\n",
       "</style>\n",
       "<table border=\"1\" class=\"dataframe\">\n",
       "  <thead>\n",
       "    <tr style=\"text-align: right;\">\n",
       "      <th></th>\n",
       "      <th>Department code</th>\n",
       "      <th>Department name</th>\n",
       "      <th>Town code</th>\n",
       "      <th>Town name</th>\n",
       "      <th>Registered</th>\n",
       "      <th>Abstentions</th>\n",
       "      <th>Null</th>\n",
       "      <th>Choice A</th>\n",
       "      <th>Choice B</th>\n",
       "      <th>code_dep</th>\n",
       "      <th>name_dep</th>\n",
       "      <th>name_reg</th>\n",
       "      <th>code_reg</th>\n",
       "    </tr>\n",
       "  </thead>\n",
       "  <tbody>\n",
       "    <tr>\n",
       "      <th>0</th>\n",
       "      <td>1</td>\n",
       "      <td>AIN</td>\n",
       "      <td>1</td>\n",
       "      <td>L'Abergement-Clémenciat</td>\n",
       "      <td>592</td>\n",
       "      <td>84</td>\n",
       "      <td>9</td>\n",
       "      <td>154</td>\n",
       "      <td>345</td>\n",
       "      <td>1</td>\n",
       "      <td>Ain</td>\n",
       "      <td>Auvergne-Rhône-Alpes</td>\n",
       "      <td>84</td>\n",
       "    </tr>\n",
       "    <tr>\n",
       "      <th>1</th>\n",
       "      <td>1</td>\n",
       "      <td>AIN</td>\n",
       "      <td>2</td>\n",
       "      <td>L'Abergement-de-Varey</td>\n",
       "      <td>215</td>\n",
       "      <td>36</td>\n",
       "      <td>5</td>\n",
       "      <td>66</td>\n",
       "      <td>108</td>\n",
       "      <td>1</td>\n",
       "      <td>Ain</td>\n",
       "      <td>Auvergne-Rhône-Alpes</td>\n",
       "      <td>84</td>\n",
       "    </tr>\n",
       "    <tr>\n",
       "      <th>2</th>\n",
       "      <td>1</td>\n",
       "      <td>AIN</td>\n",
       "      <td>4</td>\n",
       "      <td>Ambérieu-en-Bugey</td>\n",
       "      <td>8205</td>\n",
       "      <td>1698</td>\n",
       "      <td>126</td>\n",
       "      <td>2717</td>\n",
       "      <td>3664</td>\n",
       "      <td>1</td>\n",
       "      <td>Ain</td>\n",
       "      <td>Auvergne-Rhône-Alpes</td>\n",
       "      <td>84</td>\n",
       "    </tr>\n",
       "    <tr>\n",
       "      <th>3</th>\n",
       "      <td>1</td>\n",
       "      <td>AIN</td>\n",
       "      <td>5</td>\n",
       "      <td>Ambérieux-en-Dombes</td>\n",
       "      <td>1152</td>\n",
       "      <td>170</td>\n",
       "      <td>18</td>\n",
       "      <td>280</td>\n",
       "      <td>684</td>\n",
       "      <td>1</td>\n",
       "      <td>Ain</td>\n",
       "      <td>Auvergne-Rhône-Alpes</td>\n",
       "      <td>84</td>\n",
       "    </tr>\n",
       "    <tr>\n",
       "      <th>4</th>\n",
       "      <td>1</td>\n",
       "      <td>AIN</td>\n",
       "      <td>6</td>\n",
       "      <td>Ambléon</td>\n",
       "      <td>105</td>\n",
       "      <td>17</td>\n",
       "      <td>1</td>\n",
       "      <td>35</td>\n",
       "      <td>52</td>\n",
       "      <td>1</td>\n",
       "      <td>Ain</td>\n",
       "      <td>Auvergne-Rhône-Alpes</td>\n",
       "      <td>84</td>\n",
       "    </tr>\n",
       "    <tr>\n",
       "      <th>...</th>\n",
       "      <td>...</td>\n",
       "      <td>...</td>\n",
       "      <td>...</td>\n",
       "      <td>...</td>\n",
       "      <td>...</td>\n",
       "      <td>...</td>\n",
       "      <td>...</td>\n",
       "      <td>...</td>\n",
       "      <td>...</td>\n",
       "      <td>...</td>\n",
       "      <td>...</td>\n",
       "      <td>...</td>\n",
       "      <td>...</td>\n",
       "    </tr>\n",
       "    <tr>\n",
       "      <th>36560</th>\n",
       "      <td>95</td>\n",
       "      <td>VAL D'OISE</td>\n",
       "      <td>676</td>\n",
       "      <td>Villers-en-Arthies</td>\n",
       "      <td>382</td>\n",
       "      <td>64</td>\n",
       "      <td>5</td>\n",
       "      <td>87</td>\n",
       "      <td>226</td>\n",
       "      <td>95</td>\n",
       "      <td>Val-d'Oise</td>\n",
       "      <td>Île-de-France</td>\n",
       "      <td>11</td>\n",
       "    </tr>\n",
       "    <tr>\n",
       "      <th>36561</th>\n",
       "      <td>95</td>\n",
       "      <td>VAL D'OISE</td>\n",
       "      <td>678</td>\n",
       "      <td>Villiers-Adam</td>\n",
       "      <td>595</td>\n",
       "      <td>71</td>\n",
       "      <td>4</td>\n",
       "      <td>191</td>\n",
       "      <td>329</td>\n",
       "      <td>95</td>\n",
       "      <td>Val-d'Oise</td>\n",
       "      <td>Île-de-France</td>\n",
       "      <td>11</td>\n",
       "    </tr>\n",
       "    <tr>\n",
       "      <th>36562</th>\n",
       "      <td>95</td>\n",
       "      <td>VAL D'OISE</td>\n",
       "      <td>680</td>\n",
       "      <td>Villiers-le-Bel</td>\n",
       "      <td>13269</td>\n",
       "      <td>4083</td>\n",
       "      <td>224</td>\n",
       "      <td>5546</td>\n",
       "      <td>3416</td>\n",
       "      <td>95</td>\n",
       "      <td>Val-d'Oise</td>\n",
       "      <td>Île-de-France</td>\n",
       "      <td>11</td>\n",
       "    </tr>\n",
       "    <tr>\n",
       "      <th>36563</th>\n",
       "      <td>95</td>\n",
       "      <td>VAL D'OISE</td>\n",
       "      <td>682</td>\n",
       "      <td>Villiers-le-Sec</td>\n",
       "      <td>95</td>\n",
       "      <td>11</td>\n",
       "      <td>0</td>\n",
       "      <td>40</td>\n",
       "      <td>44</td>\n",
       "      <td>95</td>\n",
       "      <td>Val-d'Oise</td>\n",
       "      <td>Île-de-France</td>\n",
       "      <td>11</td>\n",
       "    </tr>\n",
       "    <tr>\n",
       "      <th>36564</th>\n",
       "      <td>95</td>\n",
       "      <td>VAL D'OISE</td>\n",
       "      <td>690</td>\n",
       "      <td>Wy-dit-Joli-Village</td>\n",
       "      <td>279</td>\n",
       "      <td>30</td>\n",
       "      <td>1</td>\n",
       "      <td>83</td>\n",
       "      <td>165</td>\n",
       "      <td>95</td>\n",
       "      <td>Val-d'Oise</td>\n",
       "      <td>Île-de-France</td>\n",
       "      <td>11</td>\n",
       "    </tr>\n",
       "  </tbody>\n",
       "</table>\n",
       "<p>36565 rows × 13 columns</p>\n",
       "</div>"
      ],
      "text/plain": [
       "      Department code Department name  Town code                Town name  \\\n",
       "0                   1             AIN          1  L'Abergement-Clémenciat   \n",
       "1                   1             AIN          2    L'Abergement-de-Varey   \n",
       "2                   1             AIN          4        Ambérieu-en-Bugey   \n",
       "3                   1             AIN          5      Ambérieux-en-Dombes   \n",
       "4                   1             AIN          6                  Ambléon   \n",
       "...               ...             ...        ...                      ...   \n",
       "36560              95      VAL D'OISE        676       Villers-en-Arthies   \n",
       "36561              95      VAL D'OISE        678            Villiers-Adam   \n",
       "36562              95      VAL D'OISE        680          Villiers-le-Bel   \n",
       "36563              95      VAL D'OISE        682          Villiers-le-Sec   \n",
       "36564              95      VAL D'OISE        690      Wy-dit-Joli-Village   \n",
       "\n",
       "       Registered  Abstentions  Null  Choice A  Choice B code_dep    name_dep  \\\n",
       "0             592           84     9       154       345        1         Ain   \n",
       "1             215           36     5        66       108        1         Ain   \n",
       "2            8205         1698   126      2717      3664        1         Ain   \n",
       "3            1152          170    18       280       684        1         Ain   \n",
       "4             105           17     1        35        52        1         Ain   \n",
       "...           ...          ...   ...       ...       ...      ...         ...   \n",
       "36560         382           64     5        87       226       95  Val-d'Oise   \n",
       "36561         595           71     4       191       329       95  Val-d'Oise   \n",
       "36562       13269         4083   224      5546      3416       95  Val-d'Oise   \n",
       "36563          95           11     0        40        44       95  Val-d'Oise   \n",
       "36564         279           30     1        83       165       95  Val-d'Oise   \n",
       "\n",
       "                   name_reg code_reg  \n",
       "0      Auvergne-Rhône-Alpes       84  \n",
       "1      Auvergne-Rhône-Alpes       84  \n",
       "2      Auvergne-Rhône-Alpes       84  \n",
       "3      Auvergne-Rhône-Alpes       84  \n",
       "4      Auvergne-Rhône-Alpes       84  \n",
       "...                     ...      ...  \n",
       "36560         Île-de-France       11  \n",
       "36561         Île-de-France       11  \n",
       "36562         Île-de-France       11  \n",
       "36563         Île-de-France       11  \n",
       "36564         Île-de-France       11  \n",
       "\n",
       "[36565 rows x 13 columns]"
      ]
     },
     "execution_count": 41,
     "metadata": {},
     "output_type": "execute_result"
    }
   ],
   "source": [
    "referendum_and_areas"
   ]
  },
  {
   "cell_type": "code",
   "execution_count": 42,
   "metadata": {},
   "outputs": [
    {
     "data": {
      "text/html": [
       "<div>\n",
       "<style scoped>\n",
       "    .dataframe tbody tr th:only-of-type {\n",
       "        vertical-align: middle;\n",
       "    }\n",
       "\n",
       "    .dataframe tbody tr th {\n",
       "        vertical-align: top;\n",
       "    }\n",
       "\n",
       "    .dataframe thead th {\n",
       "        text-align: right;\n",
       "    }\n",
       "</style>\n",
       "<table border=\"1\" class=\"dataframe\">\n",
       "  <thead>\n",
       "    <tr style=\"text-align: right;\">\n",
       "      <th></th>\n",
       "      <th>Department code</th>\n",
       "      <th>Department name</th>\n",
       "      <th>Town code</th>\n",
       "      <th>Town name</th>\n",
       "      <th>Registered</th>\n",
       "      <th>Abstentions</th>\n",
       "      <th>Null</th>\n",
       "      <th>Choice A</th>\n",
       "      <th>Choice B</th>\n",
       "      <th>code_dep</th>\n",
       "      <th>name_dep</th>\n",
       "      <th>name_reg</th>\n",
       "      <th>code_reg</th>\n",
       "    </tr>\n",
       "  </thead>\n",
       "  <tbody>\n",
       "  </tbody>\n",
       "</table>\n",
       "</div>"
      ],
      "text/plain": [
       "Empty DataFrame\n",
       "Columns: [Department code, Department name, Town code, Town name, Registered, Abstentions, Null, Choice A, Choice B, code_dep, name_dep, name_reg, code_reg]\n",
       "Index: []"
      ]
     },
     "execution_count": 42,
     "metadata": {},
     "output_type": "execute_result"
    }
   ],
   "source": [
    "referendum_and_areas[referendum_and_areas[\"name_dep\"]==\"Normandie\"]"
   ]
  },
  {
   "cell_type": "code",
   "execution_count": 29,
   "metadata": {},
   "outputs": [],
   "source": [
    "referendum_result_by_regions =referendum_and_areas[[\n",
    "    'code_reg','name_reg', 'Registered', 'Abstentions', 'Null', 'Choice A', 'Choice B'\n",
    "    ]].groupby(by=[\"name_reg\", 'code_reg'], as_index=False).agg('sum').set_index(\"code_reg\")"
   ]
  },
  {
   "cell_type": "code",
   "execution_count": 1,
   "metadata": {},
   "outputs": [],
   "source": [
    "import geopandas as gpd"
   ]
  },
  {
   "cell_type": "code",
   "execution_count": 26,
   "metadata": {},
   "outputs": [],
   "source": [
    "regions_geo = gpd.read_file(\"data//regions.geojson\")\n"
   ]
  },
  {
   "cell_type": "code",
   "execution_count": 33,
   "metadata": {},
   "outputs": [],
   "source": [
    "referendum_geo = referendum_result_by_regions.merge(regions_geo, left_on=\"code_reg\", right_on=\"code\")\n",
    "referendum_geo = gpd.GeoDataFrame(data=referendum_geo)"
   ]
  },
  {
   "cell_type": "code",
   "execution_count": 34,
   "metadata": {},
   "outputs": [
    {
     "data": {
      "text/plain": [
       "0     POLYGON ((3.36135 44.97141, 3.35453 44.95482, ...\n",
       "1     POLYGON ((6.94054 47.43337, 6.94168 47.41580, ...\n",
       "2     MULTIPOLYGON (((-2.12371 48.60441, -2.13448 48...\n",
       "3     POLYGON ((0.81482 48.67016, 0.82767 48.68072, ...\n",
       "4     MULTIPOLYGON (((9.27103 41.36496, 9.26570 41.3...\n",
       "5     POLYGON ((3.41479 48.39027, 3.42208 48.41334, ...\n",
       "6     POLYGON ((4.14089 49.97876, 4.15398 49.97484, ...\n",
       "7     POLYGON ((-1.11962 49.35557, -1.11503 49.36240...\n",
       "8     MULTIPOLYGON (((-1.02574 45.57469, -0.99300 45...\n",
       "9     MULTIPOLYGON (((1.78613 42.57362, 1.78094 42.5...\n",
       "10    MULTIPOLYGON (((-2.30479 46.70942, -2.28612 46...\n",
       "11    MULTIPOLYGON (((6.94833 44.65482, 6.95451 44.6...\n",
       "12    POLYGON ((1.92215 48.45760, 1.92074 48.44775, ...\n",
       "Name: geometry, dtype: geometry"
      ]
     },
     "execution_count": 34,
     "metadata": {},
     "output_type": "execute_result"
    }
   ],
   "source": [
    "referendum_geo.geometry"
   ]
  },
  {
   "cell_type": "code",
   "execution_count": 37,
   "metadata": {},
   "outputs": [
    {
     "data": {
      "text/plain": [
       "<Axes: >"
      ]
     },
     "execution_count": 37,
     "metadata": {},
     "output_type": "execute_result"
    },
    {
     "data": {
      "image/png": "[encoded data removed]",
      "text/plain": [
       "<Figure size 640x480 with 1 Axes>"
      ]
     },
     "metadata": {},
     "output_type": "display_data"
    }
   ],
   "source": [
    "referendum_geo.plot(\"Choice A\")\n"
   ]
  },
  {
   "cell_type": "code",
   "execution_count": 38,
   "metadata": {},
   "outputs": [],
   "source": [
    "regions_geo = gpd.read_file(\"data//regions.geojson\")\n",
    "referendum_geo = referendum_result_by_regions.merge(regions_geo, left_on=\"code_reg\", right_on=\"code\")\n",
    "referendum_geo = gpd.GeoDataFrame(data=referendum_geo)\n",
    "referendum_geo[\"ratio\"] = referendum_geo[\"Choice A\"]/ (referendum_geo[\"Abstentions\"] + referendum_geo[\"Choice A\"] + referendum_geo[\"Choice B\"])"
   ]
  },
  {
   "cell_type": "code",
   "execution_count": 44,
   "metadata": {},
   "outputs": [
    {
     "data": {
      "text/html": [
       "<div>\n",
       "<style scoped>\n",
       "    .dataframe tbody tr th:only-of-type {\n",
       "        vertical-align: middle;\n",
       "    }\n",
       "\n",
       "    .dataframe tbody tr th {\n",
       "        vertical-align: top;\n",
       "    }\n",
       "\n",
       "    .dataframe thead th {\n",
       "        text-align: right;\n",
       "    }\n",
       "</style>\n",
       "<table border=\"1\" class=\"dataframe\">\n",
       "  <thead>\n",
       "    <tr style=\"text-align: right;\">\n",
       "      <th></th>\n",
       "      <th>name_reg</th>\n",
       "      <th>Registered</th>\n",
       "      <th>Abstentions</th>\n",
       "      <th>Null</th>\n",
       "      <th>Choice A</th>\n",
       "      <th>Choice B</th>\n",
       "      <th>code</th>\n",
       "      <th>nom</th>\n",
       "      <th>geometry</th>\n",
       "      <th>ratio</th>\n",
       "    </tr>\n",
       "  </thead>\n",
       "  <tbody>\n",
       "    <tr>\n",
       "      <th>0</th>\n",
       "      <td>Auvergne-Rhône-Alpes</td>\n",
       "      <td>5227873</td>\n",
       "      <td>909284</td>\n",
       "      <td>81817</td>\n",
       "      <td>1791857</td>\n",
       "      <td>2444915</td>\n",
       "      <td>84</td>\n",
       "      <td>Auvergne-Rhône-Alpes</td>\n",
       "      <td>POLYGON ((3.36135 44.97141, 3.35453 44.95482, ...</td>\n",
       "      <td>0.348200</td>\n",
       "    </tr>\n",
       "    <tr>\n",
       "      <th>1</th>\n",
       "      <td>Bourgogne-Franche-Comté</td>\n",
       "      <td>1997925</td>\n",
       "      <td>358321</td>\n",
       "      <td>33671</td>\n",
       "      <td>668246</td>\n",
       "      <td>937687</td>\n",
       "      <td>27</td>\n",
       "      <td>Bourgogne-Franche-Comté</td>\n",
       "      <td>POLYGON ((6.94054 47.43337, 6.94168 47.41580, ...</td>\n",
       "      <td>0.340203</td>\n",
       "    </tr>\n",
       "    <tr>\n",
       "      <th>2</th>\n",
       "      <td>Bretagne</td>\n",
       "      <td>2380594</td>\n",
       "      <td>364724</td>\n",
       "      <td>36077</td>\n",
       "      <td>944052</td>\n",
       "      <td>1035741</td>\n",
       "      <td>53</td>\n",
       "      <td>Bretagne</td>\n",
       "      <td>MULTIPOLYGON (((-2.12371 48.60441, -2.13448 48...</td>\n",
       "      <td>0.402664</td>\n",
       "    </tr>\n",
       "    <tr>\n",
       "      <th>3</th>\n",
       "      <td>Centre-Val de Loire</td>\n",
       "      <td>1801366</td>\n",
       "      <td>326560</td>\n",
       "      <td>28827</td>\n",
       "      <td>590890</td>\n",
       "      <td>855089</td>\n",
       "      <td>24</td>\n",
       "      <td>Centre-Val de Loire</td>\n",
       "      <td>POLYGON ((0.81482 48.67016, 0.82767 48.68072, ...</td>\n",
       "      <td>0.333358</td>\n",
       "    </tr>\n",
       "    <tr>\n",
       "      <th>4</th>\n",
       "      <td>Corse</td>\n",
       "      <td>220349</td>\n",
       "      <td>56696</td>\n",
       "      <td>2921</td>\n",
       "      <td>60917</td>\n",
       "      <td>99815</td>\n",
       "      <td>94</td>\n",
       "      <td>Corse</td>\n",
       "      <td>MULTIPOLYGON (((9.27103 41.36496, 9.26570 41.3...</td>\n",
       "      <td>0.280171</td>\n",
       "    </tr>\n",
       "  </tbody>\n",
       "</table>\n",
       "</div>"
      ],
      "text/plain": [
       "                  name_reg  Registered  Abstentions   Null  Choice A  \\\n",
       "0     Auvergne-Rhône-Alpes     5227873       909284  81817   1791857   \n",
       "1  Bourgogne-Franche-Comté     1997925       358321  33671    668246   \n",
       "2                 Bretagne     2380594       364724  36077    944052   \n",
       "3      Centre-Val de Loire     1801366       326560  28827    590890   \n",
       "4                    Corse      220349        56696   2921     60917   \n",
       "\n",
       "   Choice B code                      nom  \\\n",
       "0   2444915   84     Auvergne-Rhône-Alpes   \n",
       "1    937687   27  Bourgogne-Franche-Comté   \n",
       "2   1035741   53                 Bretagne   \n",
       "3    855089   24      Centre-Val de Loire   \n",
       "4     99815   94                    Corse   \n",
       "\n",
       "                                            geometry     ratio  \n",
       "0  POLYGON ((3.36135 44.97141, 3.35453 44.95482, ...  0.348200  \n",
       "1  POLYGON ((6.94054 47.43337, 6.94168 47.41580, ...  0.340203  \n",
       "2  MULTIPOLYGON (((-2.12371 48.60441, -2.13448 48...  0.402664  \n",
       "3  POLYGON ((0.81482 48.67016, 0.82767 48.68072, ...  0.333358  \n",
       "4  MULTIPOLYGON (((9.27103 41.36496, 9.26570 41.3...  0.280171  "
      ]
     },
     "execution_count": 44,
     "metadata": {},
     "output_type": "execute_result"
    }
   ],
   "source": [
    "referendum_geo.head()"
   ]
  },
  {
   "cell_type": "code",
   "execution_count": 45,
   "metadata": {},
   "outputs": [
    {
     "data": {
      "text/html": [
       "<div>\n",
       "<style scoped>\n",
       "    .dataframe tbody tr th:only-of-type {\n",
       "        vertical-align: middle;\n",
       "    }\n",
       "\n",
       "    .dataframe tbody tr th {\n",
       "        vertical-align: top;\n",
       "    }\n",
       "\n",
       "    .dataframe thead th {\n",
       "        text-align: right;\n",
       "    }\n",
       "</style>\n",
       "<table border=\"1\" class=\"dataframe\">\n",
       "  <thead>\n",
       "    <tr style=\"text-align: right;\">\n",
       "      <th></th>\n",
       "      <th>name_reg</th>\n",
       "      <th>Registered</th>\n",
       "      <th>Abstentions</th>\n",
       "      <th>Null</th>\n",
       "      <th>Choice A</th>\n",
       "      <th>Choice B</th>\n",
       "      <th>code</th>\n",
       "      <th>nom</th>\n",
       "      <th>geometry</th>\n",
       "      <th>ratio</th>\n",
       "    </tr>\n",
       "  </thead>\n",
       "  <tbody>\n",
       "    <tr>\n",
       "      <th>7</th>\n",
       "      <td>Normandie</td>\n",
       "      <td>2372779</td>\n",
       "      <td>426075</td>\n",
       "      <td>35513</td>\n",
       "      <td>816972</td>\n",
       "      <td>1094219</td>\n",
       "      <td>28</td>\n",
       "      <td>Normandie</td>\n",
       "      <td>POLYGON ((-1.11962 49.35557, -1.11503 49.36240...</td>\n",
       "      <td>0.349542</td>\n",
       "    </tr>\n",
       "  </tbody>\n",
       "</table>\n",
       "</div>"
      ],
      "text/plain": [
       "    name_reg  Registered  Abstentions   Null  Choice A  Choice B code  \\\n",
       "7  Normandie     2372779       426075  35513    816972   1094219   28   \n",
       "\n",
       "         nom                                           geometry     ratio  \n",
       "7  Normandie  POLYGON ((-1.11962 49.35557, -1.11503 49.36240...  0.349542  "
      ]
     },
     "execution_count": 45,
     "metadata": {},
     "output_type": "execute_result"
    }
   ],
   "source": [
    "referendum_geo[referendum_geo[\"name_reg\"]==\"Normandie\"]"
   ]
  }
 ],
 "metadata": {
  "kernelspec": {
   "display_name": "ds",
   "language": "python",
   "name": "python3"
  },
  "language_info": {
   "codemirror_mode": {
    "name": "ipython",
    "version": 3
   },
   "file_extension": ".py",
   "mimetype": "text/x-python",
   "name": "python",
   "nbconvert_exporter": "python",
   "pygments_lexer": "ipython3",
   "version": "3.12.0"
  }
 },
 "nbformat": 4,
 "nbformat_minor": 2
}
